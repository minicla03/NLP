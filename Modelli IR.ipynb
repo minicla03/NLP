{
 "cells": [
  {
   "cell_type": "markdown",
   "metadata": {},
   "source": [
    "# MODELLI IR - Spazio vettoriale\n",
    "\n",
    "Librerie -->nltk e scikit-learn\n",
    "\n",
    "## CountVectorizer\n",
    "**CouterVectorizer** classe per convertire il testo in una matrice di token. Usa la tf per la pesatura dei token e \n",
    "produce un modello con matrici sparse di tipo Numpy. Usa il modello **bag of word**.\n",
    "Di default fa già \n",
    "- una tokenizzazione \n",
    "- la creazione del vocabolario\n",
    "- costruzione della matrice\n",
    "\n",
    "Il costruttore se usato senza argomenti usa le sue impostazioni di default che pero è possibile modificare passando funzioni custom.\n",
    "Fa test pre-processing ma non rimuove le stopword."
   ]
  },
  {
   "cell_type": "code",
   "execution_count": 151,
   "metadata": {},
   "outputs": [],
   "source": [
    "from sklearn.feature_extraction.text import CountVectorizer\n",
    "from sklearn.metrics.pairwise import cosine_similarity\n",
    "import pandas as pd\n",
    "\n",
    "\n",
    "vectorizer=CountVectorizer()\n",
    "\n",
    "#documenti da rappresentare nello spazio vettoriale\n",
    "#ogni riga è un documento\n",
    "corpus=[\"Racing games\",\n",
    "        \"This document describes racing cars\",\n",
    "        \"This document is about video games in general\",\n",
    "        \"This is a nice racing video game\"]"
   ]
  },
  {
   "cell_type": "markdown",
   "metadata": {},
   "source": [
    "Per creare il modello usiamo:"
   ]
  },
  {
   "cell_type": "code",
   "execution_count": 152,
   "metadata": {},
   "outputs": [
    {
     "name": "stdout",
     "output_type": "stream",
     "text": [
      "   about  cars  describes  document  game  games  general  in  is  nice  \\\n",
      "0      0     0          0         0     0      1        0   0   0     0   \n",
      "1      0     1          1         1     0      0        0   0   0     0   \n",
      "2      1     0          0         1     0      1        1   1   1     0   \n",
      "3      0     0          0         0     1      0        0   0   1     1   \n",
      "\n",
      "   racing  this  video  \n",
      "0       1     0      0  \n",
      "1       1     1      0  \n",
      "2       0     1      1  \n",
      "3       1     1      1  \n"
     ]
    }
   ],
   "source": [
    "mod_vect=vectorizer.fit_transform(corpus)\n",
    "\n",
    "df = pd.DataFrame(mod_vect.toarray(), columns=vectorizer.get_feature_names_out())\n",
    "print(df)\n"
   ]
  },
  {
   "cell_type": "markdown",
   "metadata": {},
   "source": [
    "che serve per creare il mdello dai documenti, quindi impara il vocabolario e lo trasforma in una matrice termini-documenti.\n",
    "\n",
    "**Valori di ritorno** --> matrice sparsa Scipy, dove le riche sono i documenti e le colonne gli index termo per rappresentare i documenti nello spazio vettoriale. Nelle intersezioni si ha la tf, cioè la frequenza con cui una parola appare in quel documento.\n",
    "\n",
    "**Parametri** --> lista dei documenti, iterabile\n",
    "\n",
    "Per apprendere dai dati solo le statistiche per creare il modello senza apprendere il modello, quindi senza effettuare una trasformazione dei dati trasformandoli in una forma matriciale, ma calcolare solo il vocabolario usiamo"
   ]
  },
  {
   "cell_type": "code",
   "execution_count": 153,
   "metadata": {},
   "outputs": [
    {
     "name": "stdout",
     "output_type": "stream",
     "text": [
      "CountVectorizer()\n",
      "['about' 'cars' 'describes' 'document' 'game' 'games' 'general' 'in' 'is'\n",
      " 'nice' 'racing' 'this' 'video']\n"
     ]
    }
   ],
   "source": [
    "stats=vectorizer.fit(corpus)\n",
    "print(stats) \n",
    "print(stats.get_feature_names_out())\n"
   ]
  },
  {
   "cell_type": "markdown",
   "metadata": {},
   "source": [
    "**Valori di ritorno** --> un oggetto CountVectorizer, ma con le informazioni per creare il modello\n",
    "\n",
    "**Parametri** --> lista dei documenti, iterabile\n",
    "\n",
    "Poi usando questo nuovo CountVectorizer possiamo creare il modello usando"
   ]
  },
  {
   "cell_type": "code",
   "execution_count": 154,
   "metadata": {},
   "outputs": [
    {
     "name": "stdout",
     "output_type": "stream",
     "text": [
      "   about  cars  describes  document  game  games  general  in  is  nice  \\\n",
      "0      0     0          0         0     0      1        0   0   0     0   \n",
      "1      0     1          1         1     0      0        0   0   0     0   \n",
      "2      1     0          0         1     0      1        1   1   1     0   \n",
      "3      0     0          0         0     1      0        0   0   1     1   \n",
      "\n",
      "   racing  this  video  \n",
      "0       1     0      0  \n",
      "1       1     1      0  \n",
      "2       0     1      1  \n",
      "3       1     1      1  \n"
     ]
    }
   ],
   "source": [
    "mtd=stats.transform(corpus)\n",
    "df = pd.DataFrame(mtd.toarray(), columns=vectorizer.get_feature_names_out())\n",
    "print(df)"
   ]
  },
  {
   "cell_type": "markdown",
   "metadata": {},
   "source": [
    "questa funzione è usata anche per poter trasformare i nuovi dati da inserire nel modello. In questo caso il modello non viene ricreato, ma il nuovo documento che viene inserito viene trasposto nello spazio vettoriale già esistente considerando i termini presenti nello spazio. termini che non sono mai stati visti non vengono inseriti, ma scartati.\n",
    "\n",
    "## Cosine Similarity\n",
    "è una funzione che calcola il coseno fra due vettori. In questo caso il coseno rappresenta la similarità fra due documenti.\n",
    "1. se passiamo alla funzione solo la matrice del modello calcola la cos_sim fra i documenti usati per addrestrare il modello;\n",
    "2. se passiamo alla funzione la matrice del modello e la query, la cos_sim è calcolata fra la query e ogni singolo documeto. In questo caso la query deve essere prima inserita nello spazio vettoriale con la  *fit_trasform()*."
   ]
  },
  {
   "cell_type": "code",
   "execution_count": 155,
   "metadata": {},
   "outputs": [
    {
     "name": "stdout",
     "output_type": "stream",
     "text": [
      "Similarità Coseno tra i documenti:\n",
      "[[1.         0.31622777 0.25       0.28867513]\n",
      " [0.31622777 1.         0.31622777 0.36514837]\n",
      " [0.25       0.31622777 1.         0.4330127 ]\n",
      " [0.28867513 0.36514837 0.4330127  1.        ]]\n",
      "\n",
      "Similarità Coseno tra la query e i documenti:\n",
      "[[0.5        0.31622777 0.         0.57735027]]\n"
     ]
    }
   ],
   "source": [
    "# Calcolare la similarità coseno tra tutti i documenti\n",
    "cos = cosine_similarity(mod_vect)\n",
    "print(\"Similarità Coseno tra i documenti:\")\n",
    "print(cos)\n",
    "print()\n",
    "\n",
    "# Aggiungere una query al modello\n",
    "query = vectorizer.transform([\"racing game\"])\n",
    "\n",
    "# Calcolare la similarità coseno tra la query e i documenti\n",
    "cos = cosine_similarity(query, mod_vect)\n",
    "print(\"Similarità Coseno tra la query e i documenti:\")\n",
    "print(cos)"
   ]
  },
  {
   "cell_type": "markdown",
   "metadata": {},
   "source": [
    "# MODELLI IR - Tf-idf\n",
    "\n",
    "## TfidfVectorizer\n",
    "TfidfVectorizer è una classe che usa come metrica la tf-idf, funziona come il caso precedente.\n",
    "\n",
    "# MODELLI IR - Inverted Index\n",
    "\n",
    "Librerie --> gensim\n",
    "\n",
    "Si potrebbe fare anche con scikit-learn usando **HashingVectorizer** ma usa come metrica la tf. Con gensim usando **Corpora.Dictionary** mappiamo ogni parola del testo ad un ID univoco, quindi usando un modello BoW"
   ]
  },
  {
   "cell_type": "code",
   "execution_count": 156,
   "metadata": {},
   "outputs": [
    {
     "name": "stdout",
     "output_type": "stream",
     "text": [
      "Dictionary<8 unique tokens: ['car', 'describ', 'document', 'race', 'game']...>\n"
     ]
    }
   ],
   "source": [
    "from gensim import corpora\n",
    "from gensim import models\n",
    "from gensim import similarities\n",
    "from nltk.tokenize import word_tokenize\n",
    "from nltk.corpus import stopwords\n",
    "from nltk.stem import snowball\n",
    "import re\n",
    "\n",
    "def my_tokenizer(text):\n",
    "    \"\"\"tokenization function\"\"\"\n",
    "    sw=stopwords.words('english')\n",
    "    stemmer=snowball.SnowballStemmer(language=\"english\")\n",
    "    tokens=word_tokenize(text)\n",
    "    pruned=[stemmer.stem(t.lower()) for t in tokens \\\n",
    "            if re.search(r\"^\\w\",t) and not t.lower() in sw]\n",
    "    return pruned\n",
    "\n",
    "documents=[\"This document describes racing cars\",\n",
    "        \"This document is about video games in general\",\n",
    "        \"This is a nice racing video game\"]\n",
    "\n",
    "texts=[my_tokenizer(d) for d in documents]\n",
    "\n",
    "dictionary = corpora.Dictionary(texts)\n",
    "print(dictionary)\n",
    "\n",
    "# doc2bow per convertire i docs in BoW \n",
    "bow_corpus=[dictionary.doc2bow(text) for text in texts]\n",
    "tfidf = models.TfidfModel(bow_corpus)"
   ]
  },
  {
   "cell_type": "markdown",
   "metadata": {},
   "source": [
    "## Similarities.SpaseMatrixSimilarity\n",
    "La funzione **`SparseMatrixSimilarity`** è una classe di Gensim utilizzata per calcolare la similarità tra una query e un insieme di documenti, rappresentati come matrici sparse (in formato **TF-IDF** o **Bag-of-Words**).\n",
    "\n",
    "La funzione **`SparseMatrixSimilarity`** accetta i seguenti parametri:\n",
    "\n",
    "### 1. **`corpus`** \n",
    "- **Descrizione**: La matrice sparsa che rappresenta il corpus di documenti.\n",
    "- **Tipo**: Una matrice sparsa, generalmente una rappresentazione **TF-IDF** o **Bag-of-Words**.\n",
    "- **Esempio**: `tfidf[bow_corpus]`\n",
    "- **Funzione**: Il corpus è una matrice che contiene la rappresentazione numerica di tutti i documenti, dove le righe sono i documenti e le colonne sono i termini del vocabolario. Ogni valore nella matrice rappresenta l'importanza di un termine in un dato documento.\n",
    "\n",
    "### 2. **`num_features`** \n",
    "- **Descrizione**: Il numero di **caratteristiche** (o dimensioni) nel vocabolario.\n",
    "- **Tipo**: Un intero che rappresenta la lunghezza del vocabolario.\n",
    "- **Esempio**: `len(dictionary)` (dove `dictionary` è il vocabolario che contiene tutte le parole uniche nei documenti).\n",
    "- **Funzione**: Specifica la dimensione del vocabolario, ossia il numero di parole uniche presenti nel tuo corpus. Questo parametro è necessario per indicare la dimensione della matrice sparsa.\n",
    "\n",
    "### 3. **`num_best`** \n",
    "- **Descrizione**: Il numero di documenti più simili da restituire.\n",
    "- **Tipo**: Un intero (predefinito è 10).\n",
    "- **Esempio**: `num_best=5`\n",
    "- **Funzione**: Limita il numero di risultati restituiti, mostrando solo i documenti più simili alla query. Se non specificato, restituirà tutti i documenti con le loro similarità coseno rispetto alla query.\n",
    "\n",
    "### 4. **`threshold`** \n",
    "- **Descrizione**: Una soglia di similarità minima. Se la similarità coseno tra un documento e la query è inferiore a questa soglia, il documento verrà escluso dai risultati.\n",
    "- **Tipo**: Un valore float tra 0 e 1 (predefinito è 0.0).\n",
    "- **Esempio**: `threshold=0.5`\n",
    "- **Funzione**: Filtra i documenti con una similarità inferiore alla soglia specificata. Se impostato a 0.5, solo i documenti con una similarità maggiore o uguale a 0.5 saranno restituiti.\n",
    "\n",
    "---\n",
    "\n",
    "La funzione **`SparseMatrixSimilarity`** restituisce un oggetto che può essere utilizzato per calcolare la similarità coseno tra una query e il corpus di documenti.\n",
    "\n",
    "### Ritorno:\n",
    "- **Tipo**: Un oggetto di tipo **`SparseMatrixSimilarity`**.\n",
    "- **Funzione**: L'oggetto restituito è utilizzato per calcolare la similarità tra un dato documento e il corpus di documenti. Quando si fornisce una query a questo oggetto, restituirà un array di similarità coseno tra la query e ogni documento nel corpus.\n"
   ]
  },
  {
   "cell_type": "code",
   "execution_count": 157,
   "metadata": {},
   "outputs": [
    {
     "name": "stdout",
     "output_type": "stream",
     "text": [
      "[array([1.0000001 , 0.07613309, 0.07613309], dtype=float32), array([0.07613309, 1.        , 0.19339646], dtype=float32), array([0.07613309, 0.19339646, 1.        ], dtype=float32)]\n",
      "[(0, 0.17312077), (1, 0.21988432), (2, 0.43976864)]\n"
     ]
    }
   ],
   "source": [
    "\n",
    "index = similarities.SparseMatrixSimilarity(tfidf[bow_corpus],len(dictionary))\n",
    "print(list(index))\n",
    "\n",
    "#tokenizzazione della query\n",
    "query_document = my_tokenizer(\"racing games\")\n",
    "query_bow = dictionary.doc2bow(query_document)\n",
    "\n",
    "sims = index[tfidf[query_bow]]\n",
    "print(list(enumerate(sims)))\n"
   ]
  },
  {
   "cell_type": "markdown",
   "metadata": {},
   "source": [
    "# MODELLI IR AVANZATI - N-grammi\n",
    "\n",
    "Per utilizzare gli **n-grammi** con il **`TfidfVectorizer`**, basta impostare il parametro `ngram_range` durante la creazione dell'oggetto. Questo parametro definisce la lunghezza degli n-grammi da considerare.\n",
    "\n",
    "```python\n",
    "ngram_range=(min_n, max_n)\n",
    "``` \n",
    "- min_n: la lunghezza minima degli n-grammi (incluso).\n",
    "- max_n: la lunghezza massima degli n-grammi (incluso)."
   ]
  },
  {
   "cell_type": "code",
   "execution_count": 158,
   "metadata": {},
   "outputs": [
    {
     "name": "stdout",
     "output_type": "stream",
     "text": [
      "Caratteristiche (ngrammi) del vocabolario:\n",
      "['car' 'describ' 'describ race' 'document' 'document describ'\n",
      " 'document video' 'game' 'kill' 'kill radio' 'nice' 'nice race' 'race'\n",
      " 'race car' 'race video' 'radio' 'radio star' 'star' 'tabl' 'tabl game'\n",
      " 'video' 'video game' 'video kill' 'video tabl']\n",
      "Similarità coseno tra la query e i documenti:\n",
      "[[0.         0.30389824 0.59923094 0.11299246]]\n"
     ]
    },
    {
     "name": "stderr",
     "output_type": "stream",
     "text": [
      "C:\\Users\\User\\AppData\\Local\\Packages\\PythonSoftwareFoundation.Python.3.12_qbz5n2kfra8p0\\LocalCache\\local-packages\\Python312\\site-packages\\sklearn\\feature_extraction\\text.py:517: UserWarning: The parameter 'token_pattern' will not be used since 'tokenizer' is not None'\n",
      "  warnings.warn(\n"
     ]
    }
   ],
   "source": [
    "from sklearn.feature_extraction.text import TfidfVectorizer\n",
    "from sklearn.metrics.pairwise import cosine_similarity\n",
    "from nltk.tokenize import word_tokenize\n",
    "from nltk.corpus import stopwords\n",
    "from nltk.stem import snowball\n",
    "import re\n",
    "\n",
    "def my_tokenizer(text):\n",
    "        sw = stopwords.words('english')  \n",
    "        stemmer = snowball.SnowballStemmer(language=\"english\")  \n",
    "        tokens = word_tokenize(text)\n",
    "        pruned = [stemmer.stem(t) for t in tokens if re.search(r\"^[a-zA-Z]\", t) and not t in sw]\n",
    "        return pruned\n",
    "\n",
    "# Inizializza il vettorizzatore considerando i bigrammi\n",
    "vectorizer = TfidfVectorizer(tokenizer=my_tokenizer, ngram_range=(1, 2))\n",
    "\n",
    "corpus = [\"This document describes racing cars\",\n",
    "          \"This document is about videos of table games\",\n",
    "          \"This is a nice racing video game\",\n",
    "          \"Video killed the radio star\"]\n",
    "\n",
    "# Allena il modello sul corpus\n",
    "model = vectorizer.fit_transform(corpus)\n",
    "print(\"Caratteristiche (ngrammi) del vocabolario:\")\n",
    "print(vectorizer.get_feature_names_out())\n",
    "\n",
    "# Esegui la trasformazione della query nel modello\n",
    "query = vectorizer.transform([\"video game\"])\n",
    "cos = cosine_similarity(query, model)\n",
    "print(\"Similarità coseno tra la query e i documenti:\")\n",
    "print(cos)"
   ]
  },
  {
   "cell_type": "markdown",
   "metadata": {},
   "source": [
    "# MODELLI AVANZATI IR - LSI"
   ]
  },
  {
   "cell_type": "code",
   "execution_count": 159,
   "metadata": {},
   "outputs": [
    {
     "name": "stdout",
     "output_type": "stream",
     "text": [
      "Documento 0: [1.0000001  0.97902197 0.9843578  0.9853968  0.99798703 0.10885489\n",
      " 0.13524207 0.68249047 0.19551672 0.11114562]\n",
      "Documento 1: [ 0.97902197  1.          0.9996056   0.9994192   0.9641294  -0.09597263\n",
      " -0.0694778   0.5192499  -0.00840719 -0.0936783 ]\n",
      "Documento 2: [ 0.9843578   0.9996056   1.          0.999982    0.9712031  -0.06798209\n",
      " -0.04143595  0.5430449   0.01967745 -0.06568253]\n",
      "Documento 3: [ 0.9853968   0.9994192   0.999982    1.          0.97261465 -0.06199703\n",
      " -0.03544263  0.54807144  0.02567366 -0.05969658]\n",
      "Documento 4: [0.99798703 0.9641294  0.9712031  0.97261465 1.         0.17167735\n",
      " 0.19780561 0.7274688  0.25731763 0.1739474 ]\n",
      "Documento 5: [ 0.10885489 -0.09597263 -0.06798209 -0.06199703  0.17167735  1.\n",
      "  0.9996466   0.8008437   0.9961556   0.9999973 ]\n",
      "Documento 6: [ 0.13524207 -0.0694778  -0.04143595 -0.03544263  0.19780561  0.9996466\n",
      "  1.          0.81648093  0.99813235  0.9997052 ]\n",
      "Documento 7: [0.68249047 0.5192499  0.5430449  0.54807144 0.7274688  0.8008437\n",
      " 0.81648093 1.         0.8502268  0.8022218 ]\n",
      "Documento 8: [ 0.19551672 -0.00840719  0.01967745  0.02567366  0.25731763  0.9961556\n",
      "  0.99813235  0.8502268   1.          0.9963549 ]\n",
      "Documento 9: [ 0.11114562 -0.0936783  -0.06568253 -0.05969658  0.1739474   0.9999973\n",
      "  0.9997052   0.8022218   0.9963549   1.        ]\n"
     ]
    }
   ],
   "source": [
    "from gensim import corpora\n",
    "from gensim import models\n",
    "from gensim import similarities\n",
    "from nltk.tokenize import word_tokenize\n",
    "from nltk.corpus import stopwords\n",
    "from nltk.stem import snowball\n",
    "import re\n",
    "\n",
    "def my_tokenizer(text):\n",
    "    sw=stopwords.words('english')\n",
    "    stemmer=snowball.SnowballStemmer(language=\"english\")\n",
    "    tokens=word_tokenize(text)\n",
    "    pruned=[stemmer.stem(t.lower()) for t in tokens \\\n",
    "            if re.search(r\"^[a-zA-Z]\",t) and not t.lower() in sw]\n",
    "    return pruned\n",
    "\n",
    "documents=[\"Indian government goes for open source software\",\n",
    "\"Debian 3.0 Woody released\",\n",
    "\"Wine 2.0 released with fixes for Gentoo 1.4 and Debian 3.0\",\n",
    "\"gnuPOD released: iPOD on Linux… with GPLed software\",\n",
    "\"Gentoo servers running at open source mySQL database\",\n",
    "\"Dolly the sheep not totally identical clone\",\n",
    "\"DNA news: introduced low-cost human genome DNA chip\",\n",
    "\"Malaria-parasite genome database on the Web\",\n",
    "\"UK sets up genome bank to protect rare sheep breeds\",\n",
    "\"Dolly's DNA damaged\"]\n",
    "\n",
    "texts=[]\n",
    "for d in documents:\n",
    "    # creates an array of tokenized documents\n",
    "    texts.append(my_tokenizer(d))\n",
    "\n",
    "# Crea il dizionario per il corpus dei documenti\n",
    "dictionary = corpora.Dictionary(texts)\n",
    "bow_corpus = [dictionary.doc2bow(text) for text in texts]\n",
    "\n",
    "# Creazione del modello TF-IDF\n",
    "tfidf = models.TfidfModel(bow_corpus)\n",
    "corpus_tfidf = tfidf[bow_corpus]\n",
    "\n",
    "# Crea il modello LSI, con 2 argomenti (topics)\n",
    "lsi_model = models.LsiModel(corpus_tfidf, num_topics=2, id2word=dictionary)\n",
    "\n",
    "# Crea un indice che facilita il calcolo delle similarità\n",
    "index = similarities.MatrixSimilarity(lsi_model[corpus_tfidf])\n",
    "# Stampa l'indice \n",
    "for i, similarity in enumerate(index):\n",
    "    print(f\"Documento {i}: {similarity}\")"
   ]
  },
  {
   "cell_type": "markdown",
   "metadata": {},
   "source": [
    "\n",
    "**`MatrixSimilarity`** è una classe di Gensim utilizzata per calcolare la similarità tra una serie di documenti in un corpus, rappresentati come vettori numerici. Solitamente, i documenti sono trasformati in una rappresentazione numerica tramite modelli come **TF-IDF** o **LSI** (Latent Semantic Indexing), e poi viene creato un indice che consente calcoli di similarità più rapidi.\n",
    "`MatrixSimilarity` permette di calcolare la similarità tra i documenti utilizzando un indice che consente di fare ricerche veloci. L'indice è utile per calcolare la similarità coseno tra una query e i documenti nel corpus. \n",
    "\n",
    "### Parametri principali di **`MatrixSimilarity`**:\n",
    "1. **`corpus`**:\n",
    "   - Descrizione: Una lista di documenti, dove ogni documento è rappresentato come un vettore numerico (di solito ottenuto da un modello come **TF-IDF** o **LSI**).\n",
    "   - Tipo: `list` (di vettori sparsi).\n",
    "   \n",
    "2. **`num_features`**:\n",
    "   - Descrizione: Il numero di caratteristiche nel vocabolario (tipicamente la dimensione del vocabolario del corpus).\n",
    "   - Tipo: `int`.\n",
    "   \n",
    "3. **`id2word`**:\n",
    "   - Descrizione: Un dizionario che mappa gli ID numerici ai termini del vocabolario.\n",
    "   - Tipo: `Dictionary`.\n",
    "   \n",
    "### Funzioni principali:\n",
    "- **`index[query]`**:\n",
    "   Calcola la similarità tra una query e tutti i documenti nel corpus. La query deve essere rappresentata nello stesso spazio vettoriale del corpus (es. come vettore **TF-IDF**).\n",
    "   \n",
    "- **`index.save(filename)`**:\n",
    "   Salva l'indice su un file, utile per evitare di ricalcolarlo in futuro.\n",
    "\n",
    "- **`index.load(filename)`**:\n",
    "   Carica un indice precedentemente salvato."
   ]
  },
  {
   "cell_type": "code",
   "execution_count": 160,
   "metadata": {},
   "outputs": [
    {
     "name": "stdout",
     "output_type": "stream",
     "text": [
      "similarità tra il primo documento e tutti gli altri\n",
      "[1.0000001  0.97902197 0.9843578  0.9853968  0.99798703 0.10885489\n",
      " 0.13524207 0.68249047 0.19551672 0.11114562]\n",
      "\n",
      "similarità tra il sesto documento e tutti gli altri\n",
      "[ 0.10885489 -0.09597263 -0.06798209 -0.06199703  0.17167735  1.\n",
      "  0.9996466   0.8008437   0.9961556   0.9999973 ]\n",
      "[('debian', 0.4434854694998973), ('releas', 0.39387184658100105), ('woodi', 0.35142421095730497), ('gentoo', 0.29585355292326376), ('wine', 0.28306005410237095), ('fix', 0.2830600541023709), ('sourc', 0.1741743715775479), ('open', 0.17417437157754778), ('softwar', 0.15920294729105253), ('databas', 0.14610110507158452)]\n",
      "[('dna', -0.5359729615542277), ('dolli', -0.40426796321228187), ('damag', -0.40273638947754414), ('introduc', -0.18203378118963082), ('news', -0.1820337811896308), ('low-cost', -0.1820337811896308), ('chip', -0.18203378118963076), ('human', -0.18203378118963076), ('genom', -0.17581616785376644), ('total', -0.1756403086703447)]\n"
     ]
    }
   ],
   "source": [
    "# Stampa la similarità tra il primo documento e tutti gli altri\n",
    "print(\"similarità tra il primo documento e tutti gli altri\")\n",
    "print(list(index)[0])\n",
    "print(\"\\nsimilarità tra il sesto documento e tutti gli altri\") \n",
    "print(list(index)[5])\n",
    "\n",
    "# Stampa il primo argomento del modello LSI\n",
    "print(lsi_model.show_topic(0))\n",
    "# Stampa il secondo argomento del modello LSI\n",
    "print(lsi_model.show_topic(1))"
   ]
  },
  {
   "cell_type": "code",
   "execution_count": 161,
   "metadata": {},
   "outputs": [
    {
     "name": "stdout",
     "output_type": "stream",
     "text": [
      "[(0, 0.118368536), (1, -0.08643689), (2, -0.05842559), (3, -0.05243706), (4, 0.18110284), (5, 0.9999541), (6, 0.99985534), (7, 0.8065415), (8, 0.9969488), (9, 0.99997354)]\n"
     ]
    }
   ],
   "source": [
    "query_document = my_tokenizer(\"DNA\")\n",
    "\n",
    "query_bow = dictionary.doc2bow(query_document)\n",
    "query_lsi = lsi_model[query_bow]  # convert la query nello spazio LSI \n",
    "\n",
    "#calvcola la similarità tra query e docs\n",
    "sims = index[query_lsi]\n",
    "print(list(enumerate(sims)))"
   ]
  }
 ],
 "metadata": {
  "kernelspec": {
   "display_name": "Python 3",
   "language": "python",
   "name": "python3"
  },
  "language_info": {
   "codemirror_mode": {
    "name": "ipython",
    "version": 3
   },
   "file_extension": ".py",
   "mimetype": "text/x-python",
   "name": "python",
   "nbconvert_exporter": "python",
   "pygments_lexer": "ipython3",
   "version": "3.12.9"
  }
 },
 "nbformat": 4,
 "nbformat_minor": 2
}
