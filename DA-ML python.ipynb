{
 "cells": [
  {
   "cell_type": "code",
   "execution_count": 16,
   "metadata": {
    "vscode": {
     "languageId": "html"
    }
   },
   "outputs": [
    {
     "data": {
      "text/html": [
       "Un caso di studio che utilizzi il machine learning include i seguenti passi: \n",
       "<ul>\n",
       "    <li>Caricare il dataset</li>\n",
       "    <li>Esplorare i dati con Pandas e visualizzarli</li>\n",
       "    <li>Trasformare i dati: convertire dati non numerici in dati numerici</li>\n",
       "    <li>Dividere i dati per l’addestramento e il testing</li>\n",
       "    <li>Creare il modello</li>\n",
       "    <li>Addestrare e testare il modello</li>\n",
       "    <li>Ottimizzare il modello e valutarne l’accuratezza</li>\n",
       "    <li>Effettuare previsioni su dati che il modello non ha mai visto</li>\n",
       "</ul>\n",
       "\n",
       "<h1>COME TRATTARE PARAMETRI SBAGLIATI O MANCANTI</h1>\n",
       "<b>Pandas</b>--> per supportare tipi di dati misti,  indicizzazione personalizzata, dati mancanti, dati inconsistenti e dati che necessitano manipolazioni in forme  appropriate per le basi di dati e i pacchetti di analisi dei dati utilizzati. \n",
       "Questa libreria fornisce due collezioni: <b>Series</b> per collezioni monodimensionali e <b>DataFrame</b> per collezioni bidimensionali.\n",
       "\n",
       "<h2>Series</h2>\n",
       "Un oggetto Series è un array monodimensionale potenziato. Mentre gli indici degli array sono sempre  interi che partono da zero, gli oggetti Series supportano la personalizzazione degli indici, con la possibilità  di definire anche indici non interi, come le stringhe.\n"
      ],
      "text/plain": [
       "<IPython.core.display.HTML object>"
      ]
     },
     "metadata": {},
     "output_type": "display_data"
    }
   ],
   "source": [
    "%%html\n",
    "Un caso di studio che utilizzi il machine learning include i seguenti passi: \n",
    "<ul>\n",
    "    <li>Caricare il dataset</li>\n",
    "    <li>Esplorare i dati con Pandas e visualizzarli</li>\n",
    "    <li>Trasformare i dati: convertire dati non numerici in dati numerici</li>\n",
    "    <li>Dividere i dati per l’addestramento e il testing</li>\n",
    "    <li>Creare il modello</li>\n",
    "    <li>Addestrare e testare il modello</li>\n",
    "    <li>Ottimizzare il modello e valutarne l’accuratezza</li>\n",
    "    <li>Effettuare previsioni su dati che il modello non ha mai visto</li>\n",
    "</ul>\n",
    "\n",
    "<h1>COME TRATTARE PARAMETRI SBAGLIATI O MANCANTI</h1>\n",
    "<b>Pandas</b>--> per supportare tipi di dati misti,  indicizzazione personalizzata, dati mancanti, dati inconsistenti e dati che necessitano manipolazioni in forme  appropriate per le basi di dati e i pacchetti di analisi dei dati utilizzati. \n",
    "Questa libreria fornisce due collezioni: <b>Series</b> per collezioni monodimensionali e <b>DataFrame</b> per collezioni bidimensionali.\n",
    "\n",
    "<h2>Series</h2>\n",
    "Un oggetto Series è un array monodimensionale potenziato. Mentre gli indici degli array sono sempre  interi che partono da zero, gli oggetti Series supportano la personalizzazione degli indici, con la possibilità  di definire anche indici non interi, come le stringhe."
   ]
  },
  {
   "cell_type": "code",
   "execution_count": 1,
   "metadata": {},
   "outputs": [
    {
     "name": "stdout",
     "output_type": "stream",
     "text": [
      "0     87\n",
      "1    100\n",
      "2     94\n",
      "dtype: int64\n",
      "\n",
      "Wally     87\n",
      "Eva      100\n",
      "Sam       94\n",
      "dtype: int64\n",
      "\n",
      "Wally     87\n",
      "Eva      100\n",
      "Sam       94\n",
      "dtype: int64\n"
     ]
    }
   ],
   "source": [
    "#per creare array monodimensionali, in cui gli indici sono interi\n",
    "import pandas as pd \n",
    "grades = pd.Series([87, 100, 94])\n",
    "\n",
    "#per creare array monodimensionali, in cui gli indici sono personalizzati, basta usare\n",
    "#modificare il parametro di default index\n",
    "grades_pers = pd.Series([87, 100, 94], index=['Wally', 'Eva', 'Sam'])\n",
    "\n",
    "#Se usiamo un dizionario per inizializzare un oggetto Series, le sue chiavi diventeranno gli indici dell’oggetto  Series, \n",
    "# mentre i valori del dizionario diventeranno i valori degli elementi dell’oggetto Series\n",
    "grades_dicti = pd.Series({'Wally': 87, 'Eva': 100, 'Sam': 94})\n",
    "\n",
    "print(grades)\n",
    "print()\n",
    "print(grades_pers)\n",
    "print()\n",
    "print(grades_dicti)"
   ]
  },
  {
   "cell_type": "code",
   "execution_count": 2,
   "metadata": {
    "vscode": {
     "languageId": "html"
    }
   },
   "outputs": [
    {
     "data": {
      "text/html": [
       "Per accedere essendo vettori usiamo le parentesi quadate con il relativo indice che usiamo per rappresentare l'identificazione.\n",
       "E' possibile prodirre statistiche usando i metodi .count(), .mean() ecc. o usare .describe() per vedere tutte le statistiche sull'array.\n",
       "\n",
       "<h2>DataFrame</h2>\n",
       "Un oggetto DataFrame è un array bidimensionale potenziato. Come gli oggetti Series, i DataFrame possono avere indici personalizzati per righe e per colonne; offrono operazioni e funzionalità aggiuntive che li rendono utili nelle operazioni comuni nella data science. Anche gli oggetti DataFrame gestiscono dati  mancanti. Ogni colonna in un oggetto DataFrame è un oggetto Series. Ogni colonna può contenere elementi di tipo diverso.\n"
      ],
      "text/plain": [
       "<IPython.core.display.HTML object>"
      ]
     },
     "metadata": {},
     "output_type": "display_data"
    }
   ],
   "source": [
    "%%html\n",
    "Per accedere essendo vettori usiamo le parentesi quadate con il relativo indice che usiamo per rappresentare l'identificazione.\n",
    "E' possibile prodirre statistiche usando i metodi .count(), .mean() ecc. o usare .describe() per vedere tutte le statistiche sull'array.\n",
    "\n",
    "<h2>DataFrame</h2>\n",
    "Un oggetto DataFrame è un array bidimensionale potenziato. Come gli oggetti Series, i DataFrame possono avere indici personalizzati per righe e per colonne; offrono operazioni e funzionalità aggiuntive che li rendono utili nelle operazioni comuni nella data science. Anche gli oggetti DataFrame gestiscono dati  mancanti. Ogni colonna in un oggetto DataFrame è un oggetto Series. Ogni colonna può contenere elementi di tipo diverso."
   ]
  },
  {
   "cell_type": "code",
   "execution_count": 3,
   "metadata": {},
   "outputs": [
    {
     "data": {
      "text/html": [
       "<div>\n",
       "<style scoped>\n",
       "    .dataframe tbody tr th:only-of-type {\n",
       "        vertical-align: middle;\n",
       "    }\n",
       "\n",
       "    .dataframe tbody tr th {\n",
       "        vertical-align: top;\n",
       "    }\n",
       "\n",
       "    .dataframe thead th {\n",
       "        text-align: right;\n",
       "    }\n",
       "</style>\n",
       "<table border=\"1\" class=\"dataframe\">\n",
       "  <thead>\n",
       "    <tr style=\"text-align: right;\">\n",
       "      <th></th>\n",
       "      <th>Wally</th>\n",
       "      <th>Eva</th>\n",
       "      <th>Sam</th>\n",
       "      <th>Katie</th>\n",
       "      <th>Bob</th>\n",
       "    </tr>\n",
       "  </thead>\n",
       "  <tbody>\n",
       "    <tr>\n",
       "      <th>0</th>\n",
       "      <td>87</td>\n",
       "      <td>100</td>\n",
       "      <td>94</td>\n",
       "      <td>100</td>\n",
       "      <td>83</td>\n",
       "    </tr>\n",
       "    <tr>\n",
       "      <th>1</th>\n",
       "      <td>96</td>\n",
       "      <td>87</td>\n",
       "      <td>77</td>\n",
       "      <td>81</td>\n",
       "      <td>65</td>\n",
       "    </tr>\n",
       "    <tr>\n",
       "      <th>2</th>\n",
       "      <td>70</td>\n",
       "      <td>90</td>\n",
       "      <td>90</td>\n",
       "      <td>82</td>\n",
       "      <td>85</td>\n",
       "    </tr>\n",
       "  </tbody>\n",
       "</table>\n",
       "</div>"
      ],
      "text/plain": [
       "   Wally  Eva  Sam  Katie  Bob\n",
       "0     87  100   94    100   83\n",
       "1     96   87   77     81   65\n",
       "2     70   90   90     82   85"
      ]
     },
     "execution_count": 3,
     "metadata": {},
     "output_type": "execute_result"
    }
   ],
   "source": [
    "grades_dict = {'Wally': [87, 96, 70], 'Eva': [100, 87, 90], 'Sam': [94, 77, 90], 'Katie': [100, 81, 82], 'Bob': [83, 65, 85]}\n",
    "grades = pd.DataFrame(grades_dict) \n",
    "grades"
   ]
  },
  {
   "cell_type": "code",
   "execution_count": 4,
   "metadata": {
    "vscode": {
     "languageId": "html"
    }
   },
   "outputs": [
    {
     "data": {
      "text/html": [
       "Pandas mostra gli oggetti DataFrame in formato tabellare, con gli indici allineati a sinistra nella prima colonna e i valori delle rimanenti colonne allineati a destra. \n",
       "Le chiavi del dizionario diventano i nomi delle colonne, mentre i valori associati a ogni chiave diventano i valori degli elementi della colonna corrispondente. A breve  vedremo come “ribaltare” le righe e le colonne. Come impostazione predefinita, gli indici delle righe sono interi generati automaticamente a partire da 0.\n",
       "avremmo potuto specificare indici personalizzati usando l’argomento denominato index in questo modo:\n",
       "<div style=\"text-align: center;\">\n",
       "    pd.DataFrame(grades_dict, index=['Test1', 'Test2', 'Test3'])\n",
       "</div>\n",
       "oppure:\n"
      ],
      "text/plain": [
       "<IPython.core.display.HTML object>"
      ]
     },
     "metadata": {},
     "output_type": "display_data"
    }
   ],
   "source": [
    "%%html\n",
    "Pandas mostra gli oggetti DataFrame in formato tabellare, con gli indici allineati a sinistra nella prima colonna e i valori delle rimanenti colonne allineati a destra. \n",
    "Le chiavi del dizionario diventano i nomi delle colonne, mentre i valori associati a ogni chiave diventano i valori degli elementi della colonna corrispondente. A breve  vedremo come “ribaltare” le righe e le colonne. Come impostazione predefinita, gli indici delle righe sono interi generati automaticamente a partire da 0.\n",
    "avremmo potuto specificare indici personalizzati usando l’argomento denominato index in questo modo:\n",
    "<div style=\"text-align: center;\">\n",
    "    pd.DataFrame(grades_dict, index=['Test1', 'Test2', 'Test3'])\n",
    "</div>\n",
    "oppure:"
   ]
  },
  {
   "cell_type": "code",
   "execution_count": 5,
   "metadata": {},
   "outputs": [
    {
     "data": {
      "text/html": [
       "<div>\n",
       "<style scoped>\n",
       "    .dataframe tbody tr th:only-of-type {\n",
       "        vertical-align: middle;\n",
       "    }\n",
       "\n",
       "    .dataframe tbody tr th {\n",
       "        vertical-align: top;\n",
       "    }\n",
       "\n",
       "    .dataframe thead th {\n",
       "        text-align: right;\n",
       "    }\n",
       "</style>\n",
       "<table border=\"1\" class=\"dataframe\">\n",
       "  <thead>\n",
       "    <tr style=\"text-align: right;\">\n",
       "      <th></th>\n",
       "      <th>Wally</th>\n",
       "      <th>Eva</th>\n",
       "      <th>Sam</th>\n",
       "      <th>Katie</th>\n",
       "      <th>Bob</th>\n",
       "    </tr>\n",
       "  </thead>\n",
       "  <tbody>\n",
       "    <tr>\n",
       "      <th>Test1</th>\n",
       "      <td>87</td>\n",
       "      <td>100</td>\n",
       "      <td>94</td>\n",
       "      <td>100</td>\n",
       "      <td>83</td>\n",
       "    </tr>\n",
       "    <tr>\n",
       "      <th>Test2</th>\n",
       "      <td>96</td>\n",
       "      <td>87</td>\n",
       "      <td>77</td>\n",
       "      <td>81</td>\n",
       "      <td>65</td>\n",
       "    </tr>\n",
       "    <tr>\n",
       "      <th>Test3</th>\n",
       "      <td>70</td>\n",
       "      <td>90</td>\n",
       "      <td>90</td>\n",
       "      <td>82</td>\n",
       "      <td>85</td>\n",
       "    </tr>\n",
       "  </tbody>\n",
       "</table>\n",
       "</div>"
      ],
      "text/plain": [
       "       Wally  Eva  Sam  Katie  Bob\n",
       "Test1     87  100   94    100   83\n",
       "Test2     96   87   77     81   65\n",
       "Test3     70   90   90     82   85"
      ]
     },
     "execution_count": 5,
     "metadata": {},
     "output_type": "execute_result"
    }
   ],
   "source": [
    "grades.index = ['Test1', 'Test2', 'Test3'] \n",
    "grades"
   ]
  },
  {
   "cell_type": "code",
   "execution_count": 6,
   "metadata": {
    "vscode": {
     "languageId": "html"
    }
   },
   "outputs": [
    {
     "data": {
      "text/html": [
       "L’indicizzazione negli oggetti DataFrame si possa fare con [], ma si raccomanda l’utilizzo degli attributi <b>loc</b>, <b>iloc</b>, <b>at</b> e <b>iat</b>, che sono ottimizzati per accedere agli oggetti DataFrame e forniscono anche funzionalità aggiuntive rispetto a []. La documentazione afferma che l’indicizzazione con [] spesso produce una copia dei dati, il che diventa un errore logico se si assegnano nuovi valori a un oggetto DataFrame ottenuto come risultato di un’operazione []. \n",
       "<p>\n",
       "L’attributo <b>loc</b> permette di accedere a una riga usando la sua etichetta.\n",
       "L’attributo <b>iloc</b> permette accedere alle righe anche con gli indici interi a partire da 0.\n",
       "Per ottenere un singolo valore di un oggetto DataFrame si possono usare i suoi attributi <b>at</b> e <b>iat</b>. Come loc  e iloc, anche at usa etichette, mentre iat usa indici interi\n",
       "</p>\n"
      ],
      "text/plain": [
       "<IPython.core.display.HTML object>"
      ]
     },
     "metadata": {},
     "output_type": "display_data"
    }
   ],
   "source": [
    "%%html\n",
    "L’indicizzazione negli oggetti DataFrame si possa fare con [], ma si raccomanda l’utilizzo degli attributi <b>loc</b>, <b>iloc</b>, <b>at</b> e <b>iat</b>, che sono ottimizzati per accedere agli oggetti DataFrame e forniscono anche funzionalità aggiuntive rispetto a []. La documentazione afferma che l’indicizzazione con [] spesso produce una copia dei dati, il che diventa un errore logico se si assegnano nuovi valori a un oggetto DataFrame ottenuto come risultato di un’operazione []. \n",
    "<p>\n",
    "L’attributo <b>loc</b> permette di accedere a una riga usando la sua etichetta.\n",
    "L’attributo <b>iloc</b> permette accedere alle righe anche con gli indici interi a partire da 0.\n",
    "Per ottenere un singolo valore di un oggetto DataFrame si possono usare i suoi attributi <b>at</b> e <b>iat</b>. Come loc  e iloc, anche at usa etichette, mentre iat usa indici interi\n",
    "</p>"
   ]
  },
  {
   "cell_type": "code",
   "execution_count": 7,
   "metadata": {},
   "outputs": [
    {
     "name": "stdout",
     "output_type": "stream",
     "text": [
      "uso di loc:\n",
      " Wally     87\n",
      "Eva      100\n",
      "Sam       94\n",
      "Katie    100\n",
      "Bob       83\n",
      "Name: Test1, dtype: int64\n",
      "\n",
      "uso di iloc:\n",
      " Wally    96\n",
      "Eva      87\n",
      "Sam      77\n",
      "Katie    81\n",
      "Bob      65\n",
      "Name: Test2, dtype: int64\n",
      "\n",
      "uso di loc con slicing:\n",
      "        Wally  Eva  Sam  Katie  Bob\n",
      "Test1     87  100   94    100   83\n",
      "Test2     96   87   77     81   65\n",
      "Test3     70   90   90     82   85\n",
      "\n",
      "uso di iloc con slicing:\n",
      "        Wally  Eva  Sam  Katie  Bob\n",
      "Test1     87  100   94    100   83\n",
      "Test2     96   87   77     81   65\n"
     ]
    }
   ],
   "source": [
    "print(\"uso di loc:\\n\", grades.loc['Test1'])\n",
    "print()\n",
    "print(\"uso di iloc:\\n\", grades.iloc[1])\n",
    "print()\n",
    "print(\"uso di loc con slicing:\\n\", grades.loc['Test1':'Test3'])\n",
    "print()\n",
    "print(\"uso di iloc con slicing:\\n\", grades.iloc[0:2])\n"
   ]
  },
  {
   "cell_type": "code",
   "execution_count": 8,
   "metadata": {
    "vscode": {
     "languageId": "html"
    }
   },
   "outputs": [
    {
     "data": {
      "text/html": [
       "<p>Una delle capacità di selezione più potenti di Pandas è l’indicizzazione booleana. Ad esempio:</p>\n",
       "<div style=\"text-align: center;\">\n",
       "    grades[grades >= 90]\n",
       "    grades[(grades >= 80) & (grades < 90)]\n",
       "</div>\n",
       "<p>Per trasporre righe e colonne, usiamo l’attributo T: <b>grades.T</b>. L’attributo T restituisce una vista trasposta (non una copia) dell’oggetto DataFrame.</p>\n",
       "\n",
       "<h2>DATA MUNGING</h2>\n",
       "<p>Il <b>data munging</b> o <b>data wrangling</b> è un processo per la preparazione dei dati per poterli analizzare. Nel data munging, due dei passi più importanti sono:</p>\n",
       "<ul style=\"list-style-type: none; padding-left: 0;\">\n",
       "    <li><b>Pulizia dei dati</b></li>\n",
       "    <li><b>Trasformazione dei dati nel formato più adatto</b> al database e al software di analisi utilizzati.</li>\n",
       "</ul>\n",
       "<p>Ecco alcuni tipici esempi di pulizia dei dati:</p>\n",
       "<ul>\n",
       "    <li>Cancellare osservazioni con valori mancanti</li>\n",
       "    <li>Sostituire valori mancanti con valori ragionevoli</li>\n",
       "    <li>Cancellare osservazioni con valori sbagliati</li>\n",
       "    <li>Eliminare gli outlier, ovvero i valori anomali (sebbene a volte sia meglio tenerli)</li>\n",
       "    <li>Eliminare i duplicati (sebbene alcune volte siano valori validi)</li>\n",
       "    <li>Gestire i dati non coerenti ecc.</li>\n",
       "</ul>\n",
       "</div>\n",
       "\n",
       "<div style=\"margin-top: 30px;\">\n",
       "<h3>Pulire i dati</h3>\n",
       "<p>Dati errati o valori mancanti possono avere un impatto significativo sull’analisi dei dati. Alcuni scienziati consigliano di non aggiungere “valori ragionevoli”, ma di evidenziare chiaramente i dati mancanti, lasciando la gestione del problema al pacchetto di analisi dati.\n",
       "Una maniera comune di pulire i dati consiste nel sostituire la temperatura mancante con un valore ragionevole, come la media delle altre misure. Tuttavia, “sostituire” i dati non deve diventare “truccare” i dati.\n",
       "La prima regola che si dovrebbe imparare è di non eliminare o cambiare quei valori che contraddicono le loro ipotesi.</p>\n",
       "\n",
       "<h4>Metodi Pandas per la pulizia dei dati</h4>\n",
       "<p>Per la pulizia dei dati possiamo usare le regex per identificare certi pattern da eliminare o sostituire con altri che non rispettano le condizioni specificate, oppure usare alcune funzioni della libreria Pandas.</p>\n",
       "<ul>\n",
       "    <li><b>Il metodo isnull()</b> serve per identificare i valori mancanti (null) all'interno di un DataFrame o di una Serie. Restituisce un DataFrame o una Serie di booleani (True per valori mancanti, False per valori non mancanti).</li>\n",
       "    <li><b>Il metodo dropna()</b> viene utilizzato per rimuovere le righe o le colonne che contengono valori mancanti (NaN). Può essere utilizzato come segue:\n",
       "        <ul>\n",
       "            <li><b>axis=0</b>: Rimuove le righe (default).</li>\n",
       "            <li><b>axis=1</b>: Rimuove le colonne.</li>\n",
       "            <li><b>how='any'</b>: Rimuove la riga o la colonna se contiene qualunque valore mancante (default).</li>\n",
       "            <li><b>how='all'</b>: Rimuove la riga o la colonna solo se tutti i valori sono mancanti.</li>\n",
       "            <li><b>thresh</b>: Numero minimo di non-null richiesti per non eliminare una riga o una colonna.</li>\n",
       "            <li><b>subset</b>: Specifica le colonne in cui cercare i valori mancanti.</li>\n",
       "            <li><b>inplace=True</b>: Modifica il DataFrame direttamente senza creare una copia.</li>\n",
       "        </ul>\n",
       "    </li>\n",
       "    <li><b>Il metodo fillna()</b> viene utilizzato per sostituire i valori mancanti (NaN) con un valore specifico. Può essere utilizzato per riempire i dati mancanti con un valore ragionevole, come la media, la mediana o un valore predefinito. Ecco i parametri principali:\n",
       "        <ul>\n",
       "            <li><b>value</b>: Un valore singolo, dizionario o Serie da usare per sostituire i valori mancanti.</li>\n",
       "            <li><b>method</b>: Può essere 'ffill' (forward fill) per propagare il valore precedente o 'bfill' (backward fill) per propagare il valore successivo.</li>\n",
       "            <li><b>axis</b>: Specifica se applicare la sostituzione sulle righe (0) o sulle colonne (1).</li>\n",
       "            <li><b>inplace=True</b>: Modifica il DataFrame originale senza creare una copia.</li>\n",
       "        </ul>\n",
       "    </li>\n",
       "</ul>\n",
       "\n",
       "<h4>Metodi per la modifica dei formati dei dati</h4>\n",
       "<p>Si può usare il metodo <b>map</b> tipico della programmazione funzionale.</p>\n"
      ],
      "text/plain": [
       "<IPython.core.display.HTML object>"
      ]
     },
     "metadata": {},
     "output_type": "display_data"
    }
   ],
   "source": [
    "%%html\n",
    "<p>Una delle capacità di selezione più potenti di Pandas è l’indicizzazione booleana. Ad esempio:</p>\n",
    "<div style=\"text-align: center;\">\n",
    "    grades[grades >= 90]\n",
    "    grades[(grades >= 80) & (grades < 90)]\n",
    "</div>\n",
    "<p>Per trasporre righe e colonne, usiamo l’attributo T: <b>grades.T</b>. L’attributo T restituisce una vista trasposta (non una copia) dell’oggetto DataFrame.</p>\n",
    "\n",
    "<h2>DATA MUNGING</h2>\n",
    "<p>Il <b>data munging</b> o <b>data wrangling</b> è un processo per la preparazione dei dati per poterli analizzare. Nel data munging, due dei passi più importanti sono:</p>\n",
    "<ul style=\"list-style-type: none; padding-left: 0;\">\n",
    "    <li><b>Pulizia dei dati</b></li>\n",
    "    <li><b>Trasformazione dei dati nel formato più adatto</b> al database e al software di analisi utilizzati.</li>\n",
    "</ul>\n",
    "<p>Ecco alcuni tipici esempi di pulizia dei dati:</p>\n",
    "<ul>\n",
    "    <li>Cancellare osservazioni con valori mancanti</li>\n",
    "    <li>Sostituire valori mancanti con valori ragionevoli</li>\n",
    "    <li>Cancellare osservazioni con valori sbagliati</li>\n",
    "    <li>Eliminare gli outlier, ovvero i valori anomali (sebbene a volte sia meglio tenerli)</li>\n",
    "    <li>Eliminare i duplicati (sebbene alcune volte siano valori validi)</li>\n",
    "    <li>Gestire i dati non coerenti ecc.</li>\n",
    "</ul>\n",
    "</div>\n",
    "\n",
    "<div style=\"margin-top: 30px;\">\n",
    "<h3>Pulire i dati</h3>\n",
    "<p>Dati errati o valori mancanti possono avere un impatto significativo sull’analisi dei dati. Alcuni scienziati consigliano di non aggiungere “valori ragionevoli”, ma di evidenziare chiaramente i dati mancanti, lasciando la gestione del problema al pacchetto di analisi dati.\n",
    "Una maniera comune di pulire i dati consiste nel sostituire la temperatura mancante con un valore ragionevole, come la media delle altre misure. Tuttavia, “sostituire” i dati non deve diventare “truccare” i dati.\n",
    "La prima regola che si dovrebbe imparare è di non eliminare o cambiare quei valori che contraddicono le loro ipotesi.</p>\n",
    "\n",
    "<h4>Metodi Pandas per la pulizia dei dati</h4>\n",
    "<p>Per la pulizia dei dati possiamo usare le regex per identificare certi pattern da eliminare o sostituire con altri che non rispettano le condizioni specificate, oppure usare alcune funzioni della libreria Pandas.</p>\n",
    "<ul>\n",
    "    <li><b>Il metodo isnull()</b> serve per identificare i valori mancanti (null) all'interno di un DataFrame o di una Serie. Restituisce un DataFrame o una Serie di booleani (True per valori mancanti, False per valori non mancanti).</li>\n",
    "    <li><b>Il metodo dropna()</b> viene utilizzato per rimuovere le righe o le colonne che contengono valori mancanti (NaN). Può essere utilizzato come segue:\n",
    "        <ul>\n",
    "            <li><b>axis=0</b>: Rimuove le righe (default).</li>\n",
    "            <li><b>axis=1</b>: Rimuove le colonne.</li>\n",
    "            <li><b>how='any'</b>: Rimuove la riga o la colonna se contiene qualunque valore mancante (default).</li>\n",
    "            <li><b>how='all'</b>: Rimuove la riga o la colonna solo se tutti i valori sono mancanti.</li>\n",
    "            <li><b>thresh</b>: Numero minimo di non-null richiesti per non eliminare una riga o una colonna.</li>\n",
    "            <li><b>subset</b>: Specifica le colonne in cui cercare i valori mancanti.</li>\n",
    "            <li><b>inplace=True</b>: Modifica il DataFrame direttamente senza creare una copia.</li>\n",
    "        </ul>\n",
    "    </li>\n",
    "    <li><b>Il metodo fillna()</b> viene utilizzato per sostituire i valori mancanti (NaN) con un valore specifico. Può essere utilizzato per riempire i dati mancanti con un valore ragionevole, come la media, la mediana o un valore predefinito. Ecco i parametri principali:\n",
    "        <ul>\n",
    "            <li><b>value</b>: Un valore singolo, dizionario o Serie da usare per sostituire i valori mancanti.</li>\n",
    "            <li><b>method</b>: Può essere 'ffill' (forward fill) per propagare il valore precedente o 'bfill' (backward fill) per propagare il valore successivo.</li>\n",
    "            <li><b>axis</b>: Specifica se applicare la sostituzione sulle righe (0) o sulle colonne (1).</li>\n",
    "            <li><b>inplace=True</b>: Modifica il DataFrame originale senza creare una copia.</li>\n",
    "        </ul>\n",
    "    </li>\n",
    "</ul>\n",
    "\n",
    "<h4>Metodi per la modifica dei formati dei dati</h4>\n",
    "<p>Si può usare il metodo <b>map</b> tipico della programmazione funzionale.</p>\n"
   ]
  },
  {
   "cell_type": "code",
   "execution_count": 9,
   "metadata": {},
   "outputs": [
    {
     "name": "stdout",
     "output_type": "stream",
     "text": [
      "1. Identificare valori mancanti (isnull()):\n",
      "   colonna1  colonna2\n",
      "0     False     False\n",
      "1     False      True\n",
      "2      True     False\n",
      "3     False     False\n",
      "\n",
      "2. Rimuovere righe con valori mancanti (dropna()):\n",
      "   colonna1 colonna2\n",
      "0       1.0        a\n",
      "3       4.0        d\n",
      "\n",
      "3. Rimuovere colonne con valori mancanti (dropna(axis=1)):\n",
      "Empty DataFrame\n",
      "Columns: []\n",
      "Index: [0, 1, 2, 3]\n",
      "\n",
      "4. Sostituire i valori mancanti con 0 (fillna()):\n",
      "   colonna1 colonna2\n",
      "0       1.0        a\n",
      "1       2.0        0\n",
      "2       0.0        c\n",
      "3       4.0        d\n",
      "\n",
      "5. Sostituire i valori mancanti con la media della colonna 'colonna1':\n",
      "0    1.000000\n",
      "1    2.000000\n",
      "2    2.333333\n",
      "3    4.000000\n",
      "Name: colonna1, dtype: float64\n",
      "\n",
      "6. Utilizzare forward fill per propagare i valori (ffill()):\n",
      "   colonna1 colonna2\n",
      "0       1.0        a\n",
      "1       2.0        a\n",
      "2       2.0        c\n",
      "3       4.0        d\n",
      "\n",
      "7. Utilizzare backward fill per propagare i valori (bfill()):\n",
      "   colonna1 colonna2\n",
      "0       1.0        a\n",
      "1       2.0        c\n",
      "2       4.0        c\n",
      "3       4.0        d\n"
     ]
    }
   ],
   "source": [
    "# Creazione del DataFrame di esempio\n",
    "data = {'colonna1': [1, 2, None, 4],\n",
    "        'colonna2': ['a', None, 'c', 'd']}\n",
    "\n",
    "df = pd.DataFrame(data)\n",
    "\n",
    "# 1. Identificare valori mancanti con isnull()\n",
    "print(\"1. Identificare valori mancanti (isnull()):\")\n",
    "print(df.isnull())\n",
    "print()\n",
    "\n",
    "# 2. Rimuovere righe con valori mancanti (dropna())\n",
    "print(\"2. Rimuovere righe con valori mancanti (dropna()):\")\n",
    "df_cleaned_rows = df.dropna()\n",
    "print(df_cleaned_rows)\n",
    "print()\n",
    "\n",
    "# 3. Rimuovere colonne con valori mancanti (dropna(axis=1))\n",
    "print(\"3. Rimuovere colonne con valori mancanti (dropna(axis=1)):\")\n",
    "df_cleaned_cols = df.dropna(axis=1)\n",
    "print(df_cleaned_cols)\n",
    "print()\n",
    "\n",
    "# 4. Sostituire i valori mancanti con un valore predefinito (fillna())\n",
    "print(\"4. Sostituire i valori mancanti con 0 (fillna()):\")\n",
    "df_filled = df.fillna(0)\n",
    "print(df_filled)\n",
    "print()\n",
    "\n",
    "# 5. Sostituire i valori mancanti con la media della colonna\n",
    "print(\"5. Sostituire i valori mancanti con la media della colonna 'colonna1':\")\n",
    "mean_col1 = df['colonna1'].mean()\n",
    "df_filled_mean = df['colonna1'].fillna(mean_col1)\n",
    "print(df_filled_mean)\n",
    "print()\n",
    "\n",
    "# 6. Utilizzare forward fill per propagare i valori (ffill())\n",
    "print(\"6. Utilizzare forward fill per propagare i valori (ffill()):\")\n",
    "df_filled_ff = df.ffill()\n",
    "print(df_filled_ff)\n",
    "print()\n",
    "\n",
    "# 7. Utilizzare backward fill per propagare i valori (bfill())\n",
    "print(\"7. Utilizzare backward fill per propagare i valori (bfill()):\")\n",
    "df_filled_bf = df.bfill()\n",
    "print(df_filled_bf)\n"
   ]
  },
  {
   "cell_type": "code",
   "execution_count": 10,
   "metadata": {
    "vscode": {
     "languageId": "html"
    }
   },
   "outputs": [
    {
     "data": {
      "text/html": [
       "<h1>MACHINE LEARNING</h1>\n",
       "La libreria di machine learning Scikit-learn impacchetta opportunamente i più efficaci algoritmi di machine learning nella forma di stimatori.\n",
       "Ognuno viene incapsulato, così che non si vedano i dettagli intricati e la complessa matematica dietro al funzionamento di questi algoritmi.\n",
       "Scikit-learn è usata per addestrare ogni modello su un sottoinsieme dei dati, per testare ogni modello sui dati restanti per vedere  come si comporta. \n",
       "Dopo aver addestrato i modelli, li metteremo al lavoro per effettuare previsioni basate sui dati che non hanno ancora visto. \n",
       "Scikit-learn possiede strumenti per automatizzare l’addestramento e il testing dei modelli e in genere si provano molti modelli per poi scegliere quello che funziona meglio.\n",
       "Nel machine learning, esistono due tipi principali di parametri:\n",
       "<ul>\n",
       "    <li><b>Parametri calcolati dallo stimatore:</b> Questi parametri sono calcolati dallo stimatore durante il processo di apprendimento dai dati forniti.</li>\n",
       "    <li><b>Iperparametri:</b> Questi parametri vengono specificati in anticipo quando si crea l'oggetto stimatore di Scikit-learn che rappresenta il modello. Gli iperparametri sono parametri che non sono appresi direttamente dai dati, ma sono impostati dall'utente prima che il modello venga addestrato.</li>\n",
       "</ul>\n",
       "Si dovrà sperimentare con diversi valori degli iperparametri per produrre il migliore modello possibile per lo studio in analisi. Questo processo è chiamato  regolazione dell’iperparametro.\n",
       "\n",
       "<h2> ML SUPERVISIONATO: Classificazione con k-nearest neighbors</h2>\n",
       "La classificazione nel machine learning supervisionato consiste nel prevedere la classe quando si inseriesce un nuovo campione. Si addestra il modello di classificazione usando dati etichettati.\n",
       "Il <b>k-nearest neighbors</b>  (k-NN) è un algoritmo che prova a prevedere la classe a cui appartiene un campione di test, guardando ai k campioni usati nell’addestramento che sono più vicini al campione di test.\n",
       "Il parametro <b>k</b> definisce il numero di vicini che l'algoritmo considera per fare una previsione.\n",
       "\n",
       "<h2>Processo Generale</h2>\n",
       "<ul style=\"list-style-type: none;\">\n",
       "    <li><b>1. Definizione del parametro k:</b> Il parametro <b>k</b> è il numero di vicini da considerare per fare la previsione. Ad esempio, se <b>k = 3</b>, l'algoritmo seleziona i tre punti più vicini al campione di test.</li>\n",
       "    <li><b>2. Calcolo delle distanze:</b> Vengono calcolate le distanze tra il campione di test e tutti i punti nel dataset di addestramento. La distanza euclidea è comunemente usata, ma possono essere usate altre metriche.</li>\n",
       "    <li><b>3. Selezione dei k vicini più prossimi:</b> L'algoritmo seleziona i <b>k</b> punti di addestramento più vicini al campione di test, in base alla distanza calcolata.</li>\n",
       "    <li><b>4. Previsione della classe:</b> L'algoritmo assegna al campione di test la classe che appare più frequentemente tra i <b>k</b> vicini selezionati.</li>\n",
       "</ul>\n",
       "\n",
       "<p>Scegliere un valore di <b>k dispari</b> è importante per evitare situazioni di pareggio. Se <b>k</b> fosse pari, ad esempio <b>k = 4</b>, si potrebbe verificare un pareggio tra due classi. In questo caso, sarebbe difficile fare una previsione chiara.\n",
       "<b>Con k dispari</b>, ad esempio <b>k = 3</b>, l'algoritmo non avrà mai un pareggio, poiché ci sarà sempre una classe che ha più vicini e quindi più voti.</p>\n",
       "\n"
      ],
      "text/plain": [
       "<IPython.core.display.HTML object>"
      ]
     },
     "metadata": {},
     "output_type": "display_data"
    }
   ],
   "source": [
    "%%html\n",
    "<h1>MACHINE LEARNING</h1>\n",
    "La libreria di machine learning Scikit-learn impacchetta opportunamente i più efficaci algoritmi di machine learning nella forma di stimatori.\n",
    "Ognuno viene incapsulato, così che non si vedano i dettagli intricati e la complessa matematica dietro al funzionamento di questi algoritmi.\n",
    "Scikit-learn è usata per addestrare ogni modello su un sottoinsieme dei dati, per testare ogni modello sui dati restanti per vedere  come si comporta. \n",
    "Dopo aver addestrato i modelli, li metteremo al lavoro per effettuare previsioni basate sui dati che non hanno ancora visto. \n",
    "Scikit-learn possiede strumenti per automatizzare l’addestramento e il testing dei modelli e in genere si provano molti modelli per poi scegliere quello che funziona meglio.\n",
    "Nel machine learning, esistono due tipi principali di parametri:\n",
    "<ul>\n",
    "    <li><b>Parametri calcolati dallo stimatore:</b> Questi parametri sono calcolati dallo stimatore durante il processo di apprendimento dai dati forniti.</li>\n",
    "    <li><b>Iperparametri:</b> Questi parametri vengono specificati in anticipo quando si crea l'oggetto stimatore di Scikit-learn che rappresenta il modello. Gli iperparametri sono parametri che non sono appresi direttamente dai dati, ma sono impostati dall'utente prima che il modello venga addestrato.</li>\n",
    "</ul>\n",
    "Si dovrà sperimentare con diversi valori degli iperparametri per produrre il migliore modello possibile per lo studio in analisi. Questo processo è chiamato  regolazione dell’iperparametro.\n",
    "\n",
    "<h2> ML SUPERVISIONATO: Classificazione con k-nearest neighbors</h2>\n",
    "La classificazione nel machine learning supervisionato consiste nel prevedere la classe quando si inseriesce un nuovo campione. Si addestra il modello di classificazione usando dati etichettati.\n",
    "Il <b>k-nearest neighbors</b>  (k-NN) è un algoritmo che prova a prevedere la classe a cui appartiene un campione di test, guardando ai k campioni usati nell’addestramento che sono più vicini al campione di test.\n",
    "Il parametro <b>k</b> definisce il numero di vicini che l'algoritmo considera per fare una previsione.\n",
    "\n",
    "<h2>Processo Generale</h2>\n",
    "<ul style=\"list-style-type: none;\">\n",
    "    <li><b>1. Definizione del parametro k:</b> Il parametro <b>k</b> è il numero di vicini da considerare per fare la previsione. Ad esempio, se <b>k = 3</b>, l'algoritmo seleziona i tre punti più vicini al campione di test.</li>\n",
    "    <li><b>2. Calcolo delle distanze:</b> Vengono calcolate le distanze tra il campione di test e tutti i punti nel dataset di addestramento. La distanza euclidea è comunemente usata, ma possono essere usate altre metriche.</li>\n",
    "    <li><b>3. Selezione dei k vicini più prossimi:</b> L'algoritmo seleziona i <b>k</b> punti di addestramento più vicini al campione di test, in base alla distanza calcolata.</li>\n",
    "    <li><b>4. Previsione della classe:</b> L'algoritmo assegna al campione di test la classe che appare più frequentemente tra i <b>k</b> vicini selezionati.</li>\n",
    "</ul>\n",
    "\n",
    "<p>Scegliere un valore di <b>k dispari</b> è importante per evitare situazioni di pareggio. Se <b>k</b> fosse pari, ad esempio <b>k = 4</b>, si potrebbe verificare un pareggio tra due classi. In questo caso, sarebbe difficile fare una previsione chiara.\n",
    "<b>Con k dispari</b>, ad esempio <b>k = 3</b>, l'algoritmo non avrà mai un pareggio, poiché ci sarà sempre una classe che ha più vicini e quindi più voti.</p>\n",
    "\n"
   ]
  },
  {
   "cell_type": "code",
   "execution_count": 11,
   "metadata": {},
   "outputs": [
    {
     "name": "stdout",
     "output_type": "stream",
     "text": [
      "[0 4 1 7 4 8 2 2 4 4 1 9 7 3 2 1 2 5]\n",
      "(1797, 64)\n",
      "[[ 0.  2.  9. 15. 14.  9.  3.  0.]\n",
      " [ 0.  4. 13.  8.  9. 16.  8.  0.]\n",
      " [ 0.  0.  0.  6. 14. 15.  3.  0.]\n",
      " [ 0.  0.  0. 11. 14.  2.  0.  0.]\n",
      " [ 0.  0.  0.  2. 15. 11.  0.  0.]\n",
      " [ 0.  0.  0.  0.  2. 15.  4.  0.]\n",
      " [ 0.  1.  5.  6. 13. 16.  6.  0.]\n",
      " [ 0.  2. 12. 12. 13. 11.  0.  0.]]\n"
     ]
    },
    {
     "data": {
      "image/png": "[encoded data removed]",
      "text/plain": [
       "<Figure size 600x400 with 24 Axes>"
      ]
     },
     "metadata": {},
     "output_type": "display_data"
    }
   ],
   "source": [
    "from sklearn.datasets import load_digits\n",
    "import matplotlib.pyplot as plt\n",
    "from sklearn.model_selection import train_test_split\n",
    "from sklearn.neighbors import KNeighborsClassifier\n",
    "from sklearn.metrics import confusion_matrix\n",
    "from sklearn.metrics import classification_report\n",
    "import numpy as np\n",
    "\n",
    "digits = load_digits()\n",
    "#print(digits.DESCR)\n",
    "\n",
    "# l'attributo target contiene le etichette\n",
    "print(digits.target[::100])\n",
    "\n",
    "# l'attributi data contiene i campioni\n",
    "#l'attributo shape di data mostra il numero dei campioni e delle feature\n",
    "print(digits.data.shape)\n",
    "#l'attributo image, ovvero un vettore in cui ogni elemento è a sua volta un vettore  bidimensionale 8×8 che rappresenta la saturazione di ogni pixel dell’immagine\n",
    "print(digits.images[13])\n",
    "\n",
    "\n",
    "figure, axes = plt.subplots(nrows=4, ncols=6, figsize=(6, 4))\n",
    "for item in zip(axes.ravel(), digits.images, digits.target):\n",
    "    axes, image, target = item\n",
    "    axes.imshow(image, cmap=plt.cm.gray_r)\n",
    "    axes.set_xticks([]) # rimuove le tacche sull'asse x\n",
    "    axes.set_yticks([]) # rimuove le tacche sull'asse y\n",
    "    axes.set_title(target)\n",
    "    plt.tight_layout()"
   ]
  },
  {
   "cell_type": "code",
   "execution_count": 12,
   "metadata": {},
   "outputs": [
    {
     "name": "stdout",
     "output_type": "stream",
     "text": [
      "previsti  [0 4 9 9 3 1 4 1 5 0 4 9 4 1 5 3 3 8 5 6]\n",
      "Expeted  [0 4 9 9 3 1 4 1 5 0 4 9 4 1 5 3 3 8 3 6]\n",
      "[(np.int64(5), np.int64(3)), (np.int64(8), np.int64(9)), (np.int64(4), np.int64(9)), (np.int64(7), np.int64(3)), (np.int64(7), np.int64(4)), (np.int64(2), np.int64(8)), (np.int64(9), np.int64(8)), (np.int64(3), np.int64(8)), (np.int64(3), np.int64(8)), (np.int64(1), np.int64(8))]\n"
     ]
    }
   ],
   "source": [
    "X_train, X_test, y_train, y_test = train_test_split(digits.data, digits.target, random_state=11)\n",
    "knn = KNeighborsClassifier()\n",
    "knn.fit(X=X_train, y=y_train)\n",
    "#KNeighborsClassifier(algorithm='auto', leaf_size=30, metric='minkowski',metric_params=None, n_jobs=None, n_neighbors=5, p=2,weights='uniform')\n",
    "predicted = knn.predict(X=X_test)\n",
    "expected = y_test\n",
    "print(\"previsti \",predicted[:20])\n",
    "print(\"Expeted \",expected[:20])\n",
    "wrong = [(p, e) for (p, e) in zip(predicted, expected) if p != e]\n",
    "print(wrong)"
   ]
  },
  {
   "cell_type": "code",
   "execution_count": 13,
   "metadata": {},
   "outputs": [
    {
     "name": "stdout",
     "output_type": "stream",
     "text": [
      "97.78%\n",
      "[[45  0  0  0  0  0  0  0  0  0]\n",
      " [ 0 45  0  0  0  0  0  0  0  0]\n",
      " [ 0  0 54  0  0  0  0  0  0  0]\n",
      " [ 0  0  0 42  0  1  0  1  0  0]\n",
      " [ 0  0  0  0 49  0  0  1  0  0]\n",
      " [ 0  0  0  0  0 38  0  0  0  0]\n",
      " [ 0  0  0  0  0  0 42  0  0  0]\n",
      " [ 0  0  0  0  0  0  0 45  0  0]\n",
      " [ 0  1  1  2  0  0  0  0 39  1]\n",
      " [ 0  0  0  0  1  0  0  0  1 41]]\n"
     ]
    }
   ],
   "source": [
    "print(f'{knn.score(X_test, y_test):.2%}')\n",
    "\n",
    "confusion = confusion_matrix(y_true=expected, y_pred=predicted)\n",
    "print(confusion)"
   ]
  },
  {
   "cell_type": "code",
   "execution_count": 14,
   "metadata": {},
   "outputs": [
    {
     "name": "stdout",
     "output_type": "stream",
     "text": [
      "              precision    recall  f1-score   support\n",
      "\n",
      "           0       1.00      1.00      1.00        45\n",
      "           1       0.98      1.00      0.99        45\n",
      "           2       0.98      1.00      0.99        54\n",
      "           3       0.95      0.95      0.95        44\n",
      "           4       0.98      0.98      0.98        50\n",
      "           5       0.97      1.00      0.99        38\n",
      "           6       1.00      1.00      1.00        42\n",
      "           7       0.96      1.00      0.98        45\n",
      "           8       0.97      0.89      0.93        44\n",
      "           9       0.98      0.95      0.96        43\n",
      "\n",
      "    accuracy                           0.98       450\n",
      "   macro avg       0.98      0.98      0.98       450\n",
      "weighted avg       0.98      0.98      0.98       450\n",
      "\n"
     ]
    }
   ],
   "source": [
    "names = [str(digit) for digit in digits.target_names]\n",
    "print(classification_report(expected, predicted,target_names=names))"
   ]
  },
  {
   "cell_type": "code",
   "execution_count": 15,
   "metadata": {},
   "outputs": [
    {
     "data": {
      "image/png": "[encoded data removed]",
      "text/plain": [
       "<Figure size 640x480 with 2 Axes>"
      ]
     },
     "metadata": {},
     "output_type": "display_data"
    },
    {
     "name": "stdout",
     "output_type": "stream",
     "text": [
      "La previsione per questa immagine è: 7\n"
     ]
    }
   ],
   "source": [
    "new_image = [\n",
    "    0, 0, 5, 12, 13, 14, 9, 0,\n",
    "    0, 0, 1, 15, 15, 5, 0, 0,\n",
    "    0, 0, 11, 10, 0, 0, 12, 3,\n",
    "    0, 0, 0, 0, 0, 10, 10, 0,\n",
    "    0, 0, 0, 13, 15, 10, 0, 0,\n",
    "    0, 0, 3, 15, 15, 6, 0, 0,\n",
    "    0, 0, 2, 12, 12, 0, 0, 0,\n",
    "    0, 0, 0, 6, 14, 0, 0, 0\n",
    "]\n",
    "\n",
    "image_matrix = np.array(new_image).reshape(8, 8)\n",
    "\n",
    "# Creare il grafico\n",
    "plt.imshow(image_matrix, cmap=plt.cm.gray_r)  # Usa una mappa colori per il grigio\n",
    "plt.colorbar()  # Aggiungi la barra dei colori\n",
    "plt.title(\"Immagine 8x8\")\n",
    "plt.axis('off')  # Rimuovi le etichette sugli assi\n",
    "plt.show()\n",
    "\n",
    "new_image = np.array(new_image).reshape(1, -1)  # Converti in array 2D per l'input\n",
    "predicted_label = knn.predict(new_image)\n",
    "print(f\"La previsione per questa immagine è: {predicted_label[0]}\")\n"
   ]
  }
 ],
 "metadata": {
  "kernelspec": {
   "display_name": "Python 3",
   "language": "python",
   "name": "python3"
  },
  "language_info": {
   "codemirror_mode": {
    "name": "ipython",
    "version": 3
   },
   "file_extension": ".py",
   "mimetype": "text/x-python",
   "name": "python",
   "nbconvert_exporter": "python",
   "pygments_lexer": "ipython3",
   "version": "3.12.9"
  }
 },
 "nbformat": 4,
 "nbformat_minor": 2
}
